{
 "cells": [
  {
   "cell_type": "markdown",
   "metadata": {},
   "source": [
    "# My Keras experings on Jupiter Notebook"
   ]
  },
  {
   "cell_type": "markdown",
   "metadata": {},
   "source": [
    "Make sure conda enviroment is activacted and keras is installed\n",
    "I used the same env of fast.ai because I'm going to test bost libraries."
   ]
  },
  {
   "cell_type": "markdown",
   "metadata": {},
   "source": [
    "Init library for plotting and model definition"
   ]
  },
  {
   "cell_type": "code",
   "execution_count": 20,
   "metadata": {},
   "outputs": [],
   "source": [
    "import os\n",
    "os.environ['KMP_DUPLICATE_LIB_OK']='True'"
   ]
  },
  {
   "cell_type": "code",
   "execution_count": 21,
   "metadata": {},
   "outputs": [],
   "source": [
    "import numpy\n",
    "from matplotlib import pyplot as plt\n",
    "import numpy as np\n",
    "import math\n",
    "from sklearn.preprocessing import StandardScaler\n",
    "from math import sqrt\n",
    "from keras.models import Sequential\n",
    "from keras.layers.core import Dense\n",
    "from keras.wrappers.scikit_learn import KerasRegressor\n",
    "%matplotlib inline\n",
    "seed = 7\n",
    "numpy.random.seed(seed)"
   ]
  },
  {
   "cell_type": "markdown",
   "metadata": {},
   "source": [
    "Let's demo a function"
   ]
  },
  {
   "cell_type": "code",
   "execution_count": 506,
   "metadata": {},
   "outputs": [
    {
     "data": {
      "text/plain": [
       "[<matplotlib.lines.Line2D at 0x1a4ed1d400>]"
      ]
     },
     "execution_count": 506,
     "metadata": {},
     "output_type": "execute_result"
    },
    {
     "data": {
      "image/png": "[encoded data removed]",
      "text/plain": [
       "<Figure size 432x288 with 1 Axes>"
      ]
     },
     "metadata": {
      "needs_background": "light"
     },
     "output_type": "display_data"
    }
   ],
   "source": [
    "x = np.linspace(-1000, 1000)\n",
    "y=x*10\n",
    "plt.plot(x, y)"
   ]
  },
  {
   "cell_type": "markdown",
   "metadata": {},
   "source": [
    "Showing the content of X variable"
   ]
  },
  {
   "cell_type": "markdown",
   "metadata": {},
   "source": [
    "## Let's start experimenting with keras "
   ]
  },
  {
   "cell_type": "code",
   "execution_count": 497,
   "metadata": {},
   "outputs": [
    {
     "data": {
      "text/plain": [
       "[<matplotlib.lines.Line2D at 0x1a4ea4b9e8>]"
      ]
     },
     "execution_count": 497,
     "metadata": {},
     "output_type": "execute_result"
    },
    {
     "data": {
      "image/png": "[encoded data removed]",
      "text/plain": [
       "<Figure size 432x288 with 1 Axes>"
      ]
     },
     "metadata": {
      "needs_background": "light"
     },
     "output_type": "display_data"
    }
   ],
   "source": [
    "trainX = np.linspace(-1000,2000,1000).reshape(-1,1)\n",
    "trainY = trainX*10\n",
    "plt.plot(trainX, trainY, 'r')"
   ]
  },
  {
   "cell_type": "markdown",
   "metadata": {},
   "source": [
    "Normalize the data"
   ]
  },
  {
   "cell_type": "code",
   "execution_count": 498,
   "metadata": {},
   "outputs": [
    {
     "name": "stdout",
     "output_type": "stream",
     "text": [
      "[-1000.] [-10000.]\n",
      "[-996.996997] [-9969.96996997]\n",
      "[-993.99399399] [-9939.93993994]\n",
      "[-990.99099099] [-9909.90990991]\n",
      "[-987.98798799] [-9879.87987988]\n"
     ]
    }
   ],
   "source": [
    "for i in range(5):\n",
    "\tprint(trainX[i], trainY[i])"
   ]
  },
  {
   "cell_type": "code",
   "execution_count": 499,
   "metadata": {},
   "outputs": [
    {
     "name": "stdout",
     "output_type": "stream",
     "text": [
      "[-0.69212785] [-10000.]\n",
      "[-0.69178144] [-9969.96996997]\n",
      "[-0.69143503] [-9939.93993994]\n",
      "[-0.69108862] [-9909.90990991]\n",
      "[-0.69074221] [-9879.87987988]\n"
     ]
    }
   ],
   "source": [
    "\n",
    "scaler = StandardScaler()\n",
    "scaler.fit(trainY)\n",
    "# standardization the dataset and print the first 5 rows\n",
    "normalizedX = scaler.transform(trainX)\n",
    "normalizedY = scaler.transform(trainY)\n",
    "for i in range(5):\n",
    "\tprint(normalizedX[i], trainY[i])"
   ]
  },
  {
   "cell_type": "code",
   "execution_count": 511,
   "metadata": {},
   "outputs": [],
   "source": [
    "model = Sequential()\n",
    "model.add(Dense(1, input_dim=1, activation=\"linear\"))"
   ]
  },
  {
   "cell_type": "code",
   "execution_count": 514,
   "metadata": {},
   "outputs": [],
   "source": [
    "import keras\n",
    "\n",
    "sgd = keras.optimizers.SGD(lr=0.3)\n",
    "model.compile(loss='mean_squared_error', optimizer=sgd, metrics=['accuracy', 'mse'])"
   ]
  },
  {
   "cell_type": "code",
   "execution_count": 515,
   "metadata": {},
   "outputs": [
    {
     "name": "stdout",
     "output_type": "stream",
     "text": [
      "Initial weights\n",
      "[array([[9.999998]], dtype=float32), array([5.1909575], dtype=float32)]\n"
     ]
    }
   ],
   "source": [
    "print(\"Initial weights\")\n",
    "for layer in model.layers:\n",
    "    weights = layer.get_weights() # list of numpy arrays\n",
    "    print(weights)"
   ]
  },
  {
   "cell_type": "code",
   "execution_count": 516,
   "metadata": {},
   "outputs": [
    {
     "name": "stdout",
     "output_type": "stream",
     "text": [
      "Epoch 1/8\n",
      "1000/1000 [==============================] - 6s 6ms/step - loss: 1.8215e-13 - acc: 0.0000e+00 - mean_squared_error: 1.8215e-13\n",
      "Epoch 2/8\n",
      "1000/1000 [==============================] - 3s 3ms/step - loss: 1.8215e-13 - acc: 0.0000e+00 - mean_squared_error: 1.8215e-13\n",
      "Epoch 3/8\n",
      "1000/1000 [==============================] - 3s 3ms/step - loss: 1.8215e-13 - acc: 0.0000e+00 - mean_squared_error: 1.8215e-13\n",
      "Epoch 4/8\n",
      "1000/1000 [==============================] - 3s 3ms/step - loss: 1.8215e-13 - acc: 0.0000e+00 - mean_squared_error: 1.8215e-13\n",
      "Epoch 5/8\n",
      "1000/1000 [==============================] - 3s 3ms/step - loss: 1.8215e-13 - acc: 0.0000e+00 - mean_squared_error: 1.8215e-13\n",
      "Epoch 6/8\n",
      "1000/1000 [==============================] - 3s 3ms/step - loss: 1.8215e-13 - acc: 0.0000e+00 - mean_squared_error: 1.8215e-13\n",
      "Epoch 7/8\n",
      "1000/1000 [==============================] - 3s 3ms/step - loss: 1.8215e-13 - acc: 0.0000e+00 - mean_squared_error: 1.8215e-13\n",
      "Epoch 8/8\n",
      "1000/1000 [==============================] - 3s 3ms/step - loss: 1.8215e-13 - acc: 0.0000e+00 - mean_squared_error: 1.8215e-13\n"
     ]
    },
    {
     "data": {
      "text/plain": [
       "<keras.callbacks.History at 0x1a4f674860>"
      ]
     },
     "execution_count": 516,
     "metadata": {},
     "output_type": "execute_result"
    }
   ],
   "source": [
    "model.fit(normalizedX, normalizedY, epochs=8, batch_size=1)"
   ]
  },
  {
   "cell_type": "code",
   "execution_count": 517,
   "metadata": {},
   "outputs": [
    {
     "data": {
      "text/plain": [
       "array([[1005.1908]], dtype=float32)"
      ]
     },
     "execution_count": 517,
     "metadata": {},
     "output_type": "execute_result"
    }
   ],
   "source": [
    "model.predict([100])"
   ]
  },
  {
   "cell_type": "markdown",
   "metadata": {},
   "source": [
    "Extract weight matrix"
   ]
  },
  {
   "cell_type": "code",
   "execution_count": 518,
   "metadata": {},
   "outputs": [
    {
     "name": "stdout",
     "output_type": "stream",
     "text": [
      "Model layers: 1\n",
      "[array([[9.999998]], dtype=float32), array([5.1909575], dtype=float32)]\n"
     ]
    }
   ],
   "source": [
    "print(\"Model layers: {0}\".format(len(model.layers)))\n",
    "for layer in model.layers:\n",
    "    weights = layer.get_weights() # list of numpy arrays\n",
    "    print(weights)"
   ]
  },
  {
   "cell_type": "code",
   "execution_count": 507,
   "metadata": {},
   "outputs": [
    {
     "data": {
      "text/plain": [
       "[<matplotlib.lines.Line2D at 0x1a4e5f9208>,\n",
       " <matplotlib.lines.Line2D at 0x1a4e5f9358>]"
      ]
     },
     "execution_count": 507,
     "metadata": {},
     "output_type": "execute_result"
    },
    {
     "data": {
      "image/png": "[encoded data removed]",
      "text/plain": [
       "<Figure size 432x288 with 1 Axes>"
      ]
     },
     "metadata": {
      "needs_background": "light"
     },
     "output_type": "display_data"
    }
   ],
   "source": [
    "plt.plot(trainX, model.predict(trainX), 'b', x, y, 'g')"
   ]
  },
  {
   "cell_type": "code",
   "execution_count": null,
   "metadata": {},
   "outputs": [],
   "source": []
  }
 ],
 "metadata": {
  "kernelspec": {
   "display_name": "Python 3",
   "language": "python",
   "name": "python3"
  },
  "language_info": {
   "codemirror_mode": {
    "name": "ipython",
    "version": 3
   },
   "file_extension": ".py",
   "mimetype": "text/x-python",
   "name": "python",
   "nbconvert_exporter": "python",
   "pygments_lexer": "ipython3",
   "version": "3.7.3"
  }
 },
 "nbformat": 4,
 "nbformat_minor": 2
}
